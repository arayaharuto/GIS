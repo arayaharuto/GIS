{
 "cells": [
  {
   "attachments": {},
   "cell_type": "markdown",
   "metadata": {
    "slideshow": {
     "slide_type": "slide"
    }
   },
   "source": [
    "## Python\n",
    "\n",
    "パイソンとは何? どのように機能があるの？"
   ]
  },
  {
   "attachments": {},
   "cell_type": "markdown",
   "metadata": {
    "slideshow": {
     "slide_type": "slide"
    }
   },
   "source": [
    "- 多目的である\n",
    "- 世界で最も人気のあるコーディング言語である"
   ]
  },
  {
   "attachments": {},
   "cell_type": "markdown",
   "metadata": {
    "slideshow": {
     "slide_type": "slide"
    }
   },
   "source": [
    "- 標準ライブラリと多数のサードパーティ ライブラリがあります\n",
    "- ここでは、使用するサードパーティ ライブラリの一部を示します。\n",
    "    - [pandas](https://pandas.pydata.org/docs/#)、データ分析用\n",
    "    - [geopandas](https://geopandas.org/gallery/index.html)、地理空間データ分析用\n",
    "    - [sodapy](https://github.com/xmunoz/sodapy)、socrata クライアントからオープン データを取得するため\n",
    "    - [folium](https://python-visualization.github.io/folium/)、リーフレットに基づくインタラクティブなマップ用\n",
    "    - [osmnx](https://geoffboeing.com/2016/11/osmnx-python-street-networks/)、ネットワーク分析用のオープンストリートマップデータの取得用\n",
    "    - [keplergl](https://kepler.gl/)、3D マッピング データ分析用"
   ]
  },
  {
   "attachments": {},
   "cell_type": "markdown",
   "metadata": {
    "slideshow": {
     "slide_type": "slide"
    }
   },
   "source": [
    "### Hello world\n",
    "\n",
    "新しいコーディングの冒険を始めるために「hello world」と入力したいと思ったことはありませんか? これはそうするチャンスです。 以下のセルにこれらの単語を入力し、「shift + Enter」を押すと…"
   ]
  },
  {
   "cell_type": "code",
   "execution_count": null,
   "metadata": {
    "slideshow": {
     "slide_type": "fragment"
    }
   },
   "outputs": [],
   "source": [
    "print('Hello Reitaku University GIS students!')"
   ]
  },
  {
   "cell_type": "markdown",
   "metadata": {},
   "source": []
  },
  {
   "attachments": {},
   "cell_type": "markdown",
   "metadata": {
    "slideshow": {
     "slide_type": "fragment"
    }
   },
   "source": [
    "最初の Python 関数 `print()` へようこそ。 print コマンドに引数を入力すると、Python が解釈して処理内容を決定します。 「ライト、カメラ、アクション!」、「コマンド、括弧、引数!」という構文に慣れてください！"
   ]
  },
  {
   "attachments": {},
   "cell_type": "markdown",
   "metadata": {
    "slideshow": {
     "slide_type": "slide"
    }
   },
   "source": [
    "### Comments\n",
    "\n",
    "ハイレベルなプログラマーに尋ねれば、良いコードはそれがどれだけコメントされているかによって決まるということに全員が同意するでしょう。 多くの場合、作成者がコード内でコメントをどれだけ使用するかによって判断されます。"
   ]
  },
  {
   "cell_type": "code",
   "execution_count": null,
   "metadata": {},
   "outputs": [],
   "source": [
    "# これはコメントです。 Python インタプリタはそれを無視します\n",
    "# コメントは人間がコードを理解するために読むための単なるメモです\n",
    "# ベストプラクティス: コードの数行ごとにコメントを追加して、何が起こっているのか、なぜそうなのかを説明します\n",
    "# コードのロジックをすぐに忘れてしまうことにあなたは驚かれるでしょう (少なくとも私はいつもそうなのです)"
   ]
  },
  {
   "attachments": {},
   "cell_type": "markdown",
   "metadata": {
    "slideshow": {
     "slide_type": "slide"
    }
   },
   "source": [
    "### Math\n",
    "Python はそのままで数学を理解します。\n",
    "\n",
    "Python でデフォルトで実行できる基本的な算術演算のリストを以下の表に示します。\n",
    "\n",
    "| Operation      | Symbol | Example syntax | Returned value |\n",
    "| -------------- | ------ | -------------- | -------------- |\n",
    "| Addition       | `+`    | `2 + 2`        | `4`            |\n",
    "| Subtraction    | `-`    | `4 - 2`        | `2`            |\n",
    "| Multiplication | `*`    | `2 * 3`        | `6`            | \n",
    "| Division       | `/`    | `4 / 2`        | `2`            |\n",
    "| Exponentiation | `**`   | `2**3`         | `8`            |\n"
   ]
  },
  {
   "cell_type": "code",
   "execution_count": 1,
   "metadata": {
    "slideshow": {
     "slide_type": "slide"
    }
   },
   "outputs": [
    {
     "data": {
      "text/plain": [
       "10374"
      ]
     },
     "execution_count": 1,
     "metadata": {},
     "output_type": "execute_result"
    }
   ],
   "source": [
    "# add two integers\n",
    "1+10373"
   ]
  },
  {
   "cell_type": "code",
   "execution_count": 2,
   "metadata": {
    "scrolled": true,
    "slideshow": {
     "slide_type": "fragment"
    }
   },
   "outputs": [
    {
     "data": {
      "text/plain": [
       "3.6666666666666665"
      ]
     },
     "execution_count": 2,
     "metadata": {},
     "output_type": "execute_result"
    }
   ],
   "source": [
    "# divide two integers to get a floating number\n",
    "11/3"
   ]
  },
  {
   "cell_type": "code",
   "execution_count": 3,
   "metadata": {
    "jupyter": {
     "outputs_hidden": false
    },
    "slideshow": {
     "slide_type": "fragment"
    }
   },
   "outputs": [
    {
     "data": {
      "text/plain": [
       "6"
      ]
     },
     "execution_count": 3,
     "metadata": {},
     "output_type": "execute_result"
    }
   ],
   "source": [
    "# multiply two integers\n",
    "2 * 3"
   ]
  },
  {
   "cell_type": "code",
   "execution_count": 5,
   "metadata": {},
   "outputs": [
    {
     "data": {
      "text/plain": [
       "0.25"
      ]
     },
     "execution_count": 5,
     "metadata": {},
     "output_type": "execute_result"
    }
   ],
   "source": [
    "# what about this?\n",
    "1/4"
   ]
  },
  {
   "attachments": {},
   "cell_type": "markdown",
   "metadata": {
    "slideshow": {
     "slide_type": "slide"
    }
   },
   "source": [
    "そうなんです！Pythonには理解できないコマンドとか、間違ったコーディングをした場合は必ずエラーがでます。エラーが出ないコーダーは世の中にはいません。慣れましょう！\n",
    "\n",
    "あなたも試してみてください！ いくつかの数学コマンドを入力します。 どれが機能し、どれが機能しないのでしょうか?"
   ]
  },
  {
   "cell_type": "code",
   "execution_count": null,
   "metadata": {},
   "outputs": [],
   "source": []
  },
  {
   "attachments": {},
   "cell_type": "markdown",
   "metadata": {
    "slideshow": {
     "slide_type": "slide"
    }
   },
   "source": [
    "### Modules\n",
    "\n",
    "さらに高度な場合は、*モジュール*をロードする必要があります。 数学演算の場合、このモジュールは *math* と呼ばれ、「import math」と入力してロードできます。 以下で試してみてください。"
   ]
  },
  {
   "cell_type": "code",
   "execution_count": null,
   "metadata": {},
   "outputs": [],
   "source": [
    "# import文を使ってモジュールを呼び出す\n",
    "import math"
   ]
  },
  {
   "attachments": {},
   "cell_type": "markdown",
   "metadata": {
    "slideshow": {
     "slide_type": "slide"
    }
   },
   "source": [
    "モジュールがロードされると、ノートブックはそれに付属するすべての関数を継承します。 言い換えれば、プロジェクトの機能は大幅に向上し、継承されたモジュールに基づいて機能が拡張されます。"
   ]
  },
  {
   "cell_type": "code",
   "execution_count": null,
   "metadata": {
    "jupyter": {
     "outputs_hidden": false
    }
   },
   "outputs": [],
   "source": [
    "math.sin(3)"
   ]
  },
  {
   "cell_type": "code",
   "execution_count": null,
   "metadata": {
    "jupyter": {
     "outputs_hidden": false
    }
   },
   "outputs": [],
   "source": [
    "math.sqrt(4)"
   ]
  },
  {
   "attachments": {},
   "cell_type": "markdown",
   "metadata": {},
   "source": [
    "マップを作成するには、folium などの「マップ」モジュールをインポートします。 それを試してみてください！"
   ]
  },
  {
   "cell_type": "code",
   "execution_count": null,
   "metadata": {},
   "outputs": [],
   "source": [
    "# import folium, a leaflet python library\n",
    "import folium\n",
    "\n",
    "# make the map\n",
    "m = folium.Map(location=[35.8330, 139.9550], zoom_start=15)\n",
    "\n",
    "# show the map\n",
    "m"
   ]
  },
  {
   "attachments": {},
   "cell_type": "markdown",
   "metadata": {
    "slideshow": {
     "slide_type": "slide"
    }
   },
   "source": [
    "モジュールに関して今まで見てきたことを要約しましょう。\n",
    "\n",
    "1. *モジュール* は、互いに関連する関数などのコード項目のグループです。 個々のモジュールは、多くの場合、「ライブラリ」と呼ばれるグループに含まれます。\n",
    "\n",
    "2. モジュールは ``import`` を使用してロードできます。 モジュール ``modulename`` の一部である関数は、 ``modulename.functionname()`` と入力することで使用できます。 たとえば、 ``sin()`` は ``math`` モジュールの一部である関数で、括弧の間に数字を入れて ``math.sin()`` と入力することで使用されます。"
   ]
  },
  {
   "attachments": {},
   "cell_type": "markdown",
   "metadata": {
    "slideshow": {
     "slide_type": "slide"
    }
   },
   "source": [
    "### Variables\n",
    "\n",
    "*変数* は、式で計算された値を保存したり、他の計算に使用したりするために使用できます。 変数への値の代入は簡単です。 値を割り当てるには、「variable_name = value」と入力するだけです。「variable_name」は定義したい変数の名前です。"
   ]
  },
  {
   "cell_type": "code",
   "execution_count": null,
   "metadata": {
    "jupyter": {
     "outputs_hidden": false
    },
    "slideshow": {
     "slide_type": "slide"
    }
   },
   "outputs": [],
   "source": [
    "# variables, such as x here, contain values and their values can vary\n",
    "x = 5"
   ]
  },
  {
   "cell_type": "code",
   "execution_count": null,
   "metadata": {
    "jupyter": {
     "outputs_hidden": false
    },
    "slideshow": {
     "slide_type": "fragment"
    }
   },
   "outputs": [],
   "source": [
    "# what is the value of x?\n",
    "x"
   ]
  },
  {
   "cell_type": "code",
   "execution_count": null,
   "metadata": {
    "jupyter": {
     "outputs_hidden": false
    },
    "slideshow": {
     "slide_type": "fragment"
    }
   },
   "outputs": [],
   "source": [
    "# you can perform operations on variables, just like you can on two numbers\n",
    "x + 3"
   ]
  },
  {
   "cell_type": "code",
   "execution_count": null,
   "metadata": {
    "jupyter": {
     "outputs_hidden": false
    },
    "slideshow": {
     "slide_type": "fragment"
    }
   },
   "outputs": [],
   "source": [
    "# create a new variable y from an operation on x\n",
    "x = 5\n",
    "y = x * 2\n",
    "y"
   ]
  },
  {
   "cell_type": "code",
   "execution_count": null,
   "metadata": {
    "jupyter": {
     "outputs_hidden": false
    },
    "slideshow": {
     "slide_type": "fragment"
    }
   },
   "outputs": [],
   "source": [
    "# 値を出力すると、最後に出力されたもののみが表示されます\n",
    "# printを使わないと、ここが違う！ ちょっとややこしいね…\n",
    "x\n",
    "y"
   ]
  },
  {
   "cell_type": "code",
   "execution_count": null,
   "metadata": {
    "jupyter": {
     "outputs_hidden": false
    },
    "slideshow": {
     "slide_type": "slide"
    }
   },
   "outputs": [],
   "source": [
    "# 同じセルで複数の変数をprintしたい場合\n",
    "print(x)\n",
    "print(y)"
   ]
  },
  {
   "cell_type": "code",
   "execution_count": null,
   "metadata": {
    "jupyter": {
     "outputs_hidden": false
    },
    "slideshow": {
     "slide_type": "fragment"
    }
   },
   "outputs": [],
   "source": [
    "# 値をカンマで区切って複数の値をコンソールに 1 行で出力できます\n",
    "# この構文では変数間にスペースが自動的に追加されることに注意\n",
    "print(x,y)"
   ]
  },
  {
   "cell_type": "code",
   "execution_count": null,
   "metadata": {
    "jupyter": {
     "outputs_hidden": false
    },
    "slideshow": {
     "slide_type": "fragment"
    }
   },
   "outputs": [],
   "source": [
    "# you can also print the result of an expression\n",
    "print(x * y)"
   ]
  },
  {
   "cell_type": "code",
   "execution_count": null,
   "metadata": {
    "slideshow": {
     "slide_type": "slide"
    }
   },
   "outputs": [],
   "source": [
    "# 数値と文字列を印刷して連結することはできますか?\n",
    "print('x is ' + x)"
   ]
  },
  {
   "cell_type": "code",
   "execution_count": null,
   "metadata": {
    "slideshow": {
     "slide_type": "fragment"
    }
   },
   "outputs": [],
   "source": [
    "# Python print コマンドは同じ型の値のみを連結できます\n",
    "# したがって、数値を文字列に変換する必要があります\n",
    "print('x is: ' + str(x))"
   ]
  },
  {
   "cell_type": "code",
   "execution_count": null,
   "metadata": {
    "slideshow": {
     "slide_type": "fragment"
    }
   },
   "outputs": [],
   "source": [
    "# あるいは、カンマを使用することもできます。\n",
    "# ややこしいですが、違いがわかりますか?\n",
    "print('x is:', x)"
   ]
  },
  {
   "attachments": {},
   "cell_type": "markdown",
   "metadata": {},
   "source": [
    "先ほどのマップに変数を使うと？"
   ]
  },
  {
   "cell_type": "code",
   "execution_count": null,
   "metadata": {},
   "outputs": [],
   "source": [
    "# import folium, a leaflet python library\n",
    "import folium\n",
    "\n",
    "# create a list of lat/lon pair for UCLA\n",
    "reitaku = [35.8330, 139.9550]\n",
    "\n",
    "# make the map\n",
    "m = folium.Map(location=reitaku, zoom_start=15)\n",
    "\n",
    "# show the map\n",
    "m"
   ]
  },
  {
   "attachments": {},
   "cell_type": "markdown",
   "metadata": {},
   "source": [
    "違いがわかりますか？\n",
    "\n",
    "さらに、map markerを足すと："
   ]
  },
  {
   "cell_type": "code",
   "execution_count": 14,
   "metadata": {},
   "outputs": [
    {
     "data": {
      "text/html": [
       "<div style=\"width:100%;\"><div style=\"position:relative;width:100%;height:0;padding-bottom:60%;\"><span style=\"color:#565656\">Make this Notebook Trusted to load map: File -> Trust Notebook</span><iframe srcdoc=\"&lt;!DOCTYPE html&gt;\n",
       "&lt;html&gt;\n",
       "&lt;head&gt;\n",
       "    \n",
       "    &lt;meta http-equiv=&quot;content-type&quot; content=&quot;text/html; charset=UTF-8&quot; /&gt;\n",
       "    \n",
       "        &lt;script&gt;\n",
       "            L_NO_TOUCH = false;\n",
       "            L_DISABLE_3D = false;\n",
       "        &lt;/script&gt;\n",
       "    \n",
       "    &lt;style&gt;html, body {width: 100%;height: 100%;margin: 0;padding: 0;}&lt;/style&gt;\n",
       "    &lt;style&gt;#map {position:absolute;top:0;bottom:0;right:0;left:0;}&lt;/style&gt;\n",
       "    &lt;script src=&quot;https://cdn.jsdelivr.net/npm/leaflet@1.9.3/dist/leaflet.js&quot;&gt;&lt;/script&gt;\n",
       "    &lt;script src=&quot;https://code.jquery.com/jquery-1.12.4.min.js&quot;&gt;&lt;/script&gt;\n",
       "    &lt;script src=&quot;https://cdn.jsdelivr.net/npm/bootstrap@5.2.2/dist/js/bootstrap.bundle.min.js&quot;&gt;&lt;/script&gt;\n",
       "    &lt;script src=&quot;https://cdnjs.cloudflare.com/ajax/libs/Leaflet.awesome-markers/2.0.2/leaflet.awesome-markers.js&quot;&gt;&lt;/script&gt;\n",
       "    &lt;link rel=&quot;stylesheet&quot; href=&quot;https://cdn.jsdelivr.net/npm/leaflet@1.9.3/dist/leaflet.css&quot;/&gt;\n",
       "    &lt;link rel=&quot;stylesheet&quot; href=&quot;https://cdn.jsdelivr.net/npm/bootstrap@5.2.2/dist/css/bootstrap.min.css&quot;/&gt;\n",
       "    &lt;link rel=&quot;stylesheet&quot; href=&quot;https://netdna.bootstrapcdn.com/bootstrap/3.0.0/css/bootstrap.min.css&quot;/&gt;\n",
       "    &lt;link rel=&quot;stylesheet&quot; href=&quot;https://cdn.jsdelivr.net/npm/@fortawesome/fontawesome-free@6.2.0/css/all.min.css&quot;/&gt;\n",
       "    &lt;link rel=&quot;stylesheet&quot; href=&quot;https://cdnjs.cloudflare.com/ajax/libs/Leaflet.awesome-markers/2.0.2/leaflet.awesome-markers.css&quot;/&gt;\n",
       "    &lt;link rel=&quot;stylesheet&quot; href=&quot;https://cdn.jsdelivr.net/gh/python-visualization/folium/folium/templates/leaflet.awesome.rotate.min.css&quot;/&gt;\n",
       "    \n",
       "            &lt;meta name=&quot;viewport&quot; content=&quot;width=device-width,\n",
       "                initial-scale=1.0, maximum-scale=1.0, user-scalable=no&quot; /&gt;\n",
       "            &lt;style&gt;\n",
       "                #map_af2e2dfeba420404271e24261dbc4250 {\n",
       "                    position: relative;\n",
       "                    width: 100.0%;\n",
       "                    height: 100.0%;\n",
       "                    left: 0.0%;\n",
       "                    top: 0.0%;\n",
       "                }\n",
       "                .leaflet-container { font-size: 1rem; }\n",
       "            &lt;/style&gt;\n",
       "        \n",
       "&lt;/head&gt;\n",
       "&lt;body&gt;\n",
       "    \n",
       "    \n",
       "            &lt;div class=&quot;folium-map&quot; id=&quot;map_af2e2dfeba420404271e24261dbc4250&quot; &gt;&lt;/div&gt;\n",
       "        \n",
       "&lt;/body&gt;\n",
       "&lt;script&gt;\n",
       "    \n",
       "    \n",
       "            var map_af2e2dfeba420404271e24261dbc4250 = L.map(\n",
       "                &quot;map_af2e2dfeba420404271e24261dbc4250&quot;,\n",
       "                {\n",
       "                    center: [35.833, 139.955],\n",
       "                    crs: L.CRS.EPSG3857,\n",
       "                    zoom: 12,\n",
       "                    zoomControl: true,\n",
       "                    preferCanvas: false,\n",
       "                }\n",
       "            );\n",
       "\n",
       "            \n",
       "\n",
       "        \n",
       "    \n",
       "            var tile_layer_8f2bfa419eb7cf6e659a638d3a44fcff = L.tileLayer(\n",
       "                &quot;https://{s}.tile.openstreetmap.org/{z}/{x}/{y}.png&quot;,\n",
       "                {&quot;attribution&quot;: &quot;Data by \\u0026copy; \\u003ca target=\\&quot;_blank\\&quot; href=\\&quot;http://openstreetmap.org\\&quot;\\u003eOpenStreetMap\\u003c/a\\u003e, under \\u003ca target=\\&quot;_blank\\&quot; href=\\&quot;http://www.openstreetmap.org/copyright\\&quot;\\u003eODbL\\u003c/a\\u003e.&quot;, &quot;detectRetina&quot;: false, &quot;maxNativeZoom&quot;: 18, &quot;maxZoom&quot;: 18, &quot;minZoom&quot;: 0, &quot;noWrap&quot;: false, &quot;opacity&quot;: 1, &quot;subdomains&quot;: &quot;abc&quot;, &quot;tms&quot;: false}\n",
       "            ).addTo(map_af2e2dfeba420404271e24261dbc4250);\n",
       "        \n",
       "    \n",
       "            var marker_7f4332722b371b60750e1f8636c0871d = L.marker(\n",
       "                [35.833, 139.955],\n",
       "                {}\n",
       "            ).addTo(map_af2e2dfeba420404271e24261dbc4250);\n",
       "        \n",
       "    \n",
       "        var popup_300a76e9fc55898071931adf439c40a9 = L.popup({&quot;maxWidth&quot;: &quot;100%&quot;});\n",
       "\n",
       "        \n",
       "            \n",
       "                var html_cb99a0b4655c051e8208179fee8bcaf7 = $(`&lt;div id=&quot;html_cb99a0b4655c051e8208179fee8bcaf7&quot; style=&quot;width: 100.0%; height: 100.0%;&quot;&gt;Reitaku University, the best place on earth!&lt;/div&gt;`)[0];\n",
       "                popup_300a76e9fc55898071931adf439c40a9.setContent(html_cb99a0b4655c051e8208179fee8bcaf7);\n",
       "            \n",
       "        \n",
       "\n",
       "        marker_7f4332722b371b60750e1f8636c0871d.bindPopup(popup_300a76e9fc55898071931adf439c40a9)\n",
       "        ;\n",
       "\n",
       "        \n",
       "    \n",
       "    \n",
       "            marker_7f4332722b371b60750e1f8636c0871d.bindTooltip(\n",
       "                `&lt;div&gt;\n",
       "                     Reitaku University\n",
       "                 &lt;/div&gt;`,\n",
       "                {&quot;sticky&quot;: true}\n",
       "            );\n",
       "        \n",
       "    \n",
       "            var marker_df4b8c7cb7693c5c09e151376f2eaa52 = L.marker(\n",
       "                [35.762241715265574, 139.90631916835378],\n",
       "                {}\n",
       "            ).addTo(map_af2e2dfeba420404271e24261dbc4250);\n",
       "        \n",
       "    \n",
       "        var popup_8579d7aa40e564280b9730daebe9e3bb = L.popup({&quot;maxWidth&quot;: &quot;100%&quot;});\n",
       "\n",
       "        \n",
       "            \n",
       "                var html_7b0c9c6fcdc06dd9acf16f7bbe2d651f = $(`&lt;div id=&quot;html_7b0c9c6fcdc06dd9acf16f7bbe2d651f&quot; style=&quot;width: 100.0%; height: 100.0%;&quot;&gt;my home,the best place on earth!&lt;/div&gt;`)[0];\n",
       "                popup_8579d7aa40e564280b9730daebe9e3bb.setContent(html_7b0c9c6fcdc06dd9acf16f7bbe2d651f);\n",
       "            \n",
       "        \n",
       "\n",
       "        marker_df4b8c7cb7693c5c09e151376f2eaa52.bindPopup(popup_8579d7aa40e564280b9730daebe9e3bb)\n",
       "        ;\n",
       "\n",
       "        \n",
       "    \n",
       "    \n",
       "            marker_df4b8c7cb7693c5c09e151376f2eaa52.bindTooltip(\n",
       "                `&lt;div&gt;\n",
       "                     my home\n",
       "                 &lt;/div&gt;`,\n",
       "                {&quot;sticky&quot;: true}\n",
       "            );\n",
       "        \n",
       "&lt;/script&gt;\n",
       "&lt;/html&gt;\" style=\"position:absolute;width:100%;height:100%;left:0;top:0;border:none !important;\" allowfullscreen webkitallowfullscreen mozallowfullscreen></iframe></div></div>"
      ],
      "text/plain": [
       "<folium.folium.Map at 0x13266d810>"
      ]
     },
     "execution_count": 14,
     "metadata": {},
     "output_type": "execute_result"
    }
   ],
   "source": [
    "# import folium, a leaflet python library\n",
    "import folium\n",
    "\n",
    "# create a list of lat/lon pair for UCLA\n",
    "reitaku = [35.8330, 139.9550]\n",
    "zitaku=[35.762241715265574, 139.90631916835378]\n",
    "# make the map\n",
    "m = folium.Map(location=reitaku, zoom_start=12)\n",
    "\n",
    "# add a marker\n",
    "folium.Marker(reitaku, popup=\"Reitaku University, the best place on eart\", tooltip=\"Reitaku University\").add_to(m)\n",
    "folium.Marker(zitaku,popup=\"my home,the best place on earth!\",tooltip=\"my home\").add_to(m)\n",
    "# show the map\n",
    "m\n"
   ]
  },
  {
   "attachments": {},
   "cell_type": "markdown",
   "metadata": {},
   "source": [
    "### 🧐 Map Challenge!\n",
    "\n",
    "1. 今住んでいる場所のマーカーと麗澤大学のマーカーが表示されるマップを作る\n",
    "1. popupやtooltipはちゃんとつけること\n",
    "1. デフォルトで両方のマーカーが表示されるようにする"
   ]
  },
  {
   "cell_type": "code",
   "execution_count": 15,
   "metadata": {},
   "outputs": [
    {
     "data": {
      "text/html": [
       "<div style=\"width:100%;\"><div style=\"position:relative;width:100%;height:0;padding-bottom:60%;\"><span style=\"color:#565656\">Make this Notebook Trusted to load map: File -> Trust Notebook</span><iframe srcdoc=\"&lt;!DOCTYPE html&gt;\n",
       "&lt;html&gt;\n",
       "&lt;head&gt;\n",
       "    \n",
       "    &lt;meta http-equiv=&quot;content-type&quot; content=&quot;text/html; charset=UTF-8&quot; /&gt;\n",
       "    \n",
       "        &lt;script&gt;\n",
       "            L_NO_TOUCH = false;\n",
       "            L_DISABLE_3D = false;\n",
       "        &lt;/script&gt;\n",
       "    \n",
       "    &lt;style&gt;html, body {width: 100%;height: 100%;margin: 0;padding: 0;}&lt;/style&gt;\n",
       "    &lt;style&gt;#map {position:absolute;top:0;bottom:0;right:0;left:0;}&lt;/style&gt;\n",
       "    &lt;script src=&quot;https://cdn.jsdelivr.net/npm/leaflet@1.9.3/dist/leaflet.js&quot;&gt;&lt;/script&gt;\n",
       "    &lt;script src=&quot;https://code.jquery.com/jquery-1.12.4.min.js&quot;&gt;&lt;/script&gt;\n",
       "    &lt;script src=&quot;https://cdn.jsdelivr.net/npm/bootstrap@5.2.2/dist/js/bootstrap.bundle.min.js&quot;&gt;&lt;/script&gt;\n",
       "    &lt;script src=&quot;https://cdnjs.cloudflare.com/ajax/libs/Leaflet.awesome-markers/2.0.2/leaflet.awesome-markers.js&quot;&gt;&lt;/script&gt;\n",
       "    &lt;link rel=&quot;stylesheet&quot; href=&quot;https://cdn.jsdelivr.net/npm/leaflet@1.9.3/dist/leaflet.css&quot;/&gt;\n",
       "    &lt;link rel=&quot;stylesheet&quot; href=&quot;https://cdn.jsdelivr.net/npm/bootstrap@5.2.2/dist/css/bootstrap.min.css&quot;/&gt;\n",
       "    &lt;link rel=&quot;stylesheet&quot; href=&quot;https://netdna.bootstrapcdn.com/bootstrap/3.0.0/css/bootstrap.min.css&quot;/&gt;\n",
       "    &lt;link rel=&quot;stylesheet&quot; href=&quot;https://cdn.jsdelivr.net/npm/@fortawesome/fontawesome-free@6.2.0/css/all.min.css&quot;/&gt;\n",
       "    &lt;link rel=&quot;stylesheet&quot; href=&quot;https://cdnjs.cloudflare.com/ajax/libs/Leaflet.awesome-markers/2.0.2/leaflet.awesome-markers.css&quot;/&gt;\n",
       "    &lt;link rel=&quot;stylesheet&quot; href=&quot;https://cdn.jsdelivr.net/gh/python-visualization/folium/folium/templates/leaflet.awesome.rotate.min.css&quot;/&gt;\n",
       "    \n",
       "            &lt;meta name=&quot;viewport&quot; content=&quot;width=device-width,\n",
       "                initial-scale=1.0, maximum-scale=1.0, user-scalable=no&quot; /&gt;\n",
       "            &lt;style&gt;\n",
       "                #map_da6fc5e7e66bc95e7890306952920a9a {\n",
       "                    position: relative;\n",
       "                    width: 100.0%;\n",
       "                    height: 100.0%;\n",
       "                    left: 0.0%;\n",
       "                    top: 0.0%;\n",
       "                }\n",
       "                .leaflet-container { font-size: 1rem; }\n",
       "            &lt;/style&gt;\n",
       "        \n",
       "&lt;/head&gt;\n",
       "&lt;body&gt;\n",
       "    \n",
       "    \n",
       "            &lt;div class=&quot;folium-map&quot; id=&quot;map_da6fc5e7e66bc95e7890306952920a9a&quot; &gt;&lt;/div&gt;\n",
       "        \n",
       "&lt;/body&gt;\n",
       "&lt;script&gt;\n",
       "    \n",
       "    \n",
       "            var map_da6fc5e7e66bc95e7890306952920a9a = L.map(\n",
       "                &quot;map_da6fc5e7e66bc95e7890306952920a9a&quot;,\n",
       "                {\n",
       "                    center: [35.833, 139.955],\n",
       "                    crs: L.CRS.EPSG3857,\n",
       "                    zoom: 12,\n",
       "                    zoomControl: true,\n",
       "                    preferCanvas: false,\n",
       "                }\n",
       "            );\n",
       "\n",
       "            \n",
       "\n",
       "        \n",
       "    \n",
       "            var tile_layer_5c6afb2e261d299bcd6fcb9bacc6f2a5 = L.tileLayer(\n",
       "                &quot;https://{s}.tile.openstreetmap.org/{z}/{x}/{y}.png&quot;,\n",
       "                {&quot;attribution&quot;: &quot;Data by \\u0026copy; \\u003ca target=\\&quot;_blank\\&quot; href=\\&quot;http://openstreetmap.org\\&quot;\\u003eOpenStreetMap\\u003c/a\\u003e, under \\u003ca target=\\&quot;_blank\\&quot; href=\\&quot;http://www.openstreetmap.org/copyright\\&quot;\\u003eODbL\\u003c/a\\u003e.&quot;, &quot;detectRetina&quot;: false, &quot;maxNativeZoom&quot;: 18, &quot;maxZoom&quot;: 18, &quot;minZoom&quot;: 0, &quot;noWrap&quot;: false, &quot;opacity&quot;: 1, &quot;subdomains&quot;: &quot;abc&quot;, &quot;tms&quot;: false}\n",
       "            ).addTo(map_da6fc5e7e66bc95e7890306952920a9a);\n",
       "        \n",
       "    \n",
       "            var marker_0968a2c11490f235c54f5a06265f04d5 = L.marker(\n",
       "                [35.833, 139.955],\n",
       "                {}\n",
       "            ).addTo(map_da6fc5e7e66bc95e7890306952920a9a);\n",
       "        \n",
       "    \n",
       "        var popup_aa6cb9d0d2ba48c92391eaaa49f0bbd5 = L.popup({&quot;maxWidth&quot;: &quot;100%&quot;});\n",
       "\n",
       "        \n",
       "            \n",
       "                var html_ed5a2bb38962467759ab8fd735a49247 = $(`&lt;div id=&quot;html_ed5a2bb38962467759ab8fd735a49247&quot; style=&quot;width: 100.0%; height: 100.0%;&quot;&gt;Reitaku University, the best place on earth!&lt;/div&gt;`)[0];\n",
       "                popup_aa6cb9d0d2ba48c92391eaaa49f0bbd5.setContent(html_ed5a2bb38962467759ab8fd735a49247);\n",
       "            \n",
       "        \n",
       "\n",
       "        marker_0968a2c11490f235c54f5a06265f04d5.bindPopup(popup_aa6cb9d0d2ba48c92391eaaa49f0bbd5)\n",
       "        ;\n",
       "\n",
       "        \n",
       "    \n",
       "    \n",
       "            marker_0968a2c11490f235c54f5a06265f04d5.bindTooltip(\n",
       "                `&lt;div&gt;\n",
       "                     Reitaku University\n",
       "                 &lt;/div&gt;`,\n",
       "                {&quot;sticky&quot;: true}\n",
       "            );\n",
       "        \n",
       "    \n",
       "            var marker_f7be68af39e84aebb849599f5e950cb9 = L.marker(\n",
       "                [35.762241715265574, 139.90631916835378],\n",
       "                {}\n",
       "            ).addTo(map_da6fc5e7e66bc95e7890306952920a9a);\n",
       "        \n",
       "    \n",
       "        var popup_6e12c1ccd16efada803ff39281ea7b4a = L.popup({&quot;maxWidth&quot;: &quot;100%&quot;});\n",
       "\n",
       "        \n",
       "            \n",
       "                var html_010cbb7827f12a68d8d2856721a25389 = $(`&lt;div id=&quot;html_010cbb7827f12a68d8d2856721a25389&quot; style=&quot;width: 100.0%; height: 100.0%;&quot;&gt;my home,the best place on earth!&lt;/div&gt;`)[0];\n",
       "                popup_6e12c1ccd16efada803ff39281ea7b4a.setContent(html_010cbb7827f12a68d8d2856721a25389);\n",
       "            \n",
       "        \n",
       "\n",
       "        marker_f7be68af39e84aebb849599f5e950cb9.bindPopup(popup_6e12c1ccd16efada803ff39281ea7b4a)\n",
       "        ;\n",
       "\n",
       "        \n",
       "    \n",
       "    \n",
       "            marker_f7be68af39e84aebb849599f5e950cb9.bindTooltip(\n",
       "                `&lt;div&gt;\n",
       "                     my home\n",
       "                 &lt;/div&gt;`,\n",
       "                {&quot;sticky&quot;: true}\n",
       "            );\n",
       "        \n",
       "&lt;/script&gt;\n",
       "&lt;/html&gt;\" style=\"position:absolute;width:100%;height:100%;left:0;top:0;border:none !important;\" allowfullscreen webkitallowfullscreen mozallowfullscreen></iframe></div></div>"
      ],
      "text/plain": [
       "<folium.folium.Map at 0x13268f510>"
      ]
     },
     "execution_count": 15,
     "metadata": {},
     "output_type": "execute_result"
    }
   ],
   "source": [
    "# import folium, a leaflet python library\n",
    "import folium\n",
    "\n",
    "# create a list of lat/lon pair for UCLA\n",
    "reitaku = [35.8330, 139.9550]\n",
    "zitaku=[35.762241715265574, 139.90631916835378]\n",
    "# make the map\n",
    "m = folium.Map(location=reitaku, zoom_start=12)\n",
    "\n",
    "# add a marker\n",
    "folium.Marker(reitaku, popup=\"Reitaku University, the best place on earth!\", tooltip=\"Reitaku University\").add_to(m)\n",
    "folium.Marker(zitaku,popup=\"my home,the best place on earth!\",tooltip=\"my home\").add_to(m)\n",
    "# show the map\n",
    "m"
   ]
  },
  {
   "attachments": {},
   "cell_type": "markdown",
   "metadata": {},
   "source": [
    "できたら、クラスのGoogle Slidesにスクリーンショットを提出！\n",
    "\n",
    "https://docs.google.com/presentation/d/1oIwXESVpEQOlATKbUgNOGgSbz1IV63mDehEfBzGdDn0/edit?usp=sharing"
   ]
  },
  {
   "attachments": {},
   "cell_type": "markdown",
   "metadata": {
    "slideshow": {
     "slide_type": "slide"
    }
   },
   "source": [
    "## Data types\n",
    "\n",
    "以下の表に示すように、Python には 4 つの基本的な *データ型* があります。\n",
    "\n",
    "| Data type name | Data type            | Example    |\n",
    "| -------------- | -------------------- | ---------- |\n",
    "| `int`          | Whole integer values | `4`        |\n",
    "| `float`        | Decimal values       | `3.1415`   |\n",
    "| `str`          | Character strings    | `'Hot'`    |\n",
    "| `bool`         | True/false values    | `True`     |\n",
    "\n",
    "データ型は「type()」関数を使用して見つけることができます。"
   ]
  },
  {
   "attachments": {},
   "cell_type": "markdown",
   "metadata": {},
   "source": [
    "### Intergers"
   ]
  },
  {
   "cell_type": "code",
   "execution_count": null,
   "metadata": {
    "jupyter": {
     "outputs_hidden": false
    },
    "slideshow": {
     "slide_type": "slide"
    }
   },
   "outputs": [],
   "source": [
    "# 整数\n",
    "type(125)"
   ]
  },
  {
   "cell_type": "code",
   "execution_count": null,
   "metadata": {
    "jupyter": {
     "outputs_hidden": false
    },
    "slideshow": {
     "slide_type": "fragment"
    }
   },
   "outputs": [],
   "source": [
    "# すべての変数にはデータ型がある\n",
    "x = 125\n",
    "type(x)"
   ]
  },
  {
   "attachments": {},
   "cell_type": "markdown",
   "metadata": {},
   "source": [
    "### Floats"
   ]
  },
  {
   "cell_type": "code",
   "execution_count": null,
   "metadata": {
    "jupyter": {
     "outputs_hidden": false
    },
    "slideshow": {
     "slide_type": "fragment"
    }
   },
   "outputs": [],
   "source": [
    "# float is a 浮動小数点数\n",
    "some_rate = 4.3\n",
    "type(some_rate)"
   ]
  },
  {
   "attachments": {},
   "cell_type": "markdown",
   "metadata": {},
   "source": [
    "### Strings"
   ]
  },
  {
   "cell_type": "code",
   "execution_count": null,
   "metadata": {
    "jupyter": {
     "outputs_hidden": false
    },
    "slideshow": {
     "slide_type": "fragment"
    }
   },
   "outputs": [],
   "source": [
    "# str are \"strings\" of characters\n",
    "s = 'abc'\n",
    "type(s)"
   ]
  },
  {
   "attachments": {},
   "cell_type": "markdown",
   "metadata": {},
   "source": [
    "### Lists"
   ]
  },
  {
   "cell_type": "code",
   "execution_count": null,
   "metadata": {
    "jupyter": {
     "outputs_hidden": false
    },
    "slideshow": {
     "slide_type": "slide"
    }
   },
   "outputs": [],
   "source": [
    "# リストは角括弧[]で示された要素のコレクションです\n",
    "# これらの括弧があるため、リストであることがわかります\n",
    "my_list = [1, 2, 3, 4]\n",
    "my_list"
   ]
  },
  {
   "cell_type": "code",
   "execution_count": null,
   "metadata": {
    "jupyter": {
     "outputs_hidden": false
    },
    "slideshow": {
     "slide_type": "fragment"
    }
   },
   "outputs": [],
   "source": [
    "type(my_list)"
   ]
  },
  {
   "attachments": {},
   "cell_type": "markdown",
   "metadata": {},
   "source": [
    "### Dictionary"
   ]
  },
  {
   "cell_type": "code",
   "execution_count": null,
   "metadata": {
    "jupyter": {
     "outputs_hidden": false
    },
    "slideshow": {
     "slide_type": "slide"
    }
   },
   "outputs": [],
   "source": [
    "# dictionaryはkey:valueのペアのコレクションであり、中括弧{}で示されます\n",
    "person = {'first_name':'Yoh', 'last_name':'Kawano','hobby':'soccer'}\n",
    "person"
   ]
  },
  {
   "cell_type": "code",
   "execution_count": null,
   "metadata": {
    "jupyter": {
     "outputs_hidden": false
    },
    "slideshow": {
     "slide_type": "fragment"
    }
   },
   "outputs": [],
   "source": [
    "type(person)"
   ]
  },
  {
   "cell_type": "code",
   "execution_count": null,
   "metadata": {
    "slideshow": {
     "slide_type": "fragment"
    }
   },
   "outputs": [],
   "source": [
    "# 明確にするため、およびkey:valueペアが多数ある場合には、dictionaryをこのように書くこともできます\n",
    "person = {\n",
    "            'first_name':'Yoh', \n",
    "            'last_name':'Kawano',\n",
    "            'hobbies':'soccer'\n",
    "}"
   ]
  },
  {
   "attachments": {},
   "cell_type": "markdown",
   "metadata": {
    "slideshow": {
     "slide_type": "slide"
    }
   },
   "source": [
    "# Map Homework\n",
    "\n",
    "Foliumで地図を作ろう！まずはテーマを決める。例えば「麗澤大学付近トップ10おいしいとこ」とか。\n",
    "\n",
    "手順：\n",
    "1. VSCodeで`Week05`フォルダーの中に`mymap.ipynb`ファイルを作る\n",
    "1. Markdownセルを作って、マップの紹介をする\n",
    "1. Codeセルを作ってマップを作る\n",
    "1. `import folium`から初め、マーカーを４っつ以上作る\n",
    "1. popupとtooltipを記入\n",
    "1. GitHubリポジトリにcommit\n",
    "\n",
    "提出するのはあなたのGitHubのリンクです。こんな感じになるはずです：\n",
    "https://github.com/yohman/23-1-Reitaku-GIS/blob/main/Weeks/Week05/mymap.ipynb"
   ]
  },
  {
   "attachments": {},
   "cell_type": "markdown",
   "metadata": {
    "slideshow": {
     "slide_type": "slide"
    }
   },
   "source": [
    "## Closing words\n",
    "\n",
    "\n",
    "どう？楽しかったでしょう！ マップは、データ サイエンスの世界で最も価値のあるビジュアライゼーションのひとつです。すぐにアクセスでき、世界中で理解され、データ レイヤーがぎっしり詰まっています。\n",
    "\n",
    "Folium モジュールのドキュメントを読んで、独自のマップを作成してください。\n",
    "\n",
    "https://python-visualization.github.io/folium/quickstart.html"
   ]
  },
  {
   "attachments": {},
   "cell_type": "markdown",
   "metadata": {},
   "source": []
  }
 ],
 "metadata": {
  "celltoolbar": "Slideshow",
  "kernelspec": {
   "display_name": "xymax",
   "language": "python",
   "name": "python3"
  },
  "language_info": {
   "codemirror_mode": {
    "name": "ipython",
    "version": 3
   },
   "file_extension": ".py",
   "mimetype": "text/x-python",
   "name": "python",
   "nbconvert_exporter": "python",
   "pygments_lexer": "ipython3",
   "version": "3.11.3"
  },
  "toc": {
   "base_numbering": 1,
   "nav_menu": {},
   "number_sections": true,
   "sideBar": true,
   "skip_h1_title": true,
   "title_cell": "Table of Contents",
   "title_sidebar": "Contents",
   "toc_cell": true,
   "toc_position": {
    "height": "calc(100% - 180px)",
    "left": "10px",
    "top": "150px",
    "width": "319px"
   },
   "toc_section_display": true,
   "toc_window_display": false
  },
  "vscode": {
   "interpreter": {
    "hash": "6f3a6b90b75928055da0f19108388f80ab08f35cf0c332cf7927be5faa57e6ed"
   }
  }
 },
 "nbformat": 4,
 "nbformat_minor": 4
}
