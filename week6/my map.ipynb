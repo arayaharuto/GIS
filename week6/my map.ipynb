{
 "cells": [
  {
   "cell_type": "code",
   "execution_count": 52,
   "metadata": {},
   "outputs": [],
   "source": [
    "# library import\n",
    "import pandas as pd\n",
    "import folium\n",
    "import matplotlib.pyplot as plt"
   ]
  },
  {
   "cell_type": "code",
   "execution_count": 53,
   "metadata": {},
   "outputs": [],
   "source": [
    "# import the csv file\n",
    "df = pd.read_csv('mydata.csv')"
   ]
  },
  {
   "cell_type": "code",
   "execution_count": 54,
   "metadata": {},
   "outputs": [
    {
     "data": {
      "text/html": [
       "<div>\n",
       "<style scoped>\n",
       "    .dataframe tbody tr th:only-of-type {\n",
       "        vertical-align: middle;\n",
       "    }\n",
       "\n",
       "    .dataframe tbody tr th {\n",
       "        vertical-align: top;\n",
       "    }\n",
       "\n",
       "    .dataframe thead th {\n",
       "        text-align: right;\n",
       "    }\n",
       "</style>\n",
       "<table border=\"1\" class=\"dataframe\">\n",
       "  <thead>\n",
       "    <tr style=\"text-align: right;\">\n",
       "      <th></th>\n",
       "      <th>name</th>\n",
       "      <th>description</th>\n",
       "      <th>latitude</th>\n",
       "      <th>longitude</th>\n",
       "      <th>color</th>\n",
       "    </tr>\n",
       "  </thead>\n",
       "  <tbody>\n",
       "    <tr>\n",
       "      <th>0</th>\n",
       "      <td>中華蕎麦とみ田</td>\n",
       "      <td>松戸駅の近くにあり朝早く並ばないと食べれないのと値段が高いです。残すことができないので頼む量に注意</td>\n",
       "      <td>35.782000</td>\n",
       "      <td>139.900927</td>\n",
       "      <td>pink</td>\n",
       "    </tr>\n",
       "    <tr>\n",
       "      <th>1</th>\n",
       "      <td>兎に角</td>\n",
       "      <td>松戸駅近くにあり油そばが美味しいです。いついっても床がぬるぬるです。</td>\n",
       "      <td>35.785910</td>\n",
       "      <td>139.901777</td>\n",
       "      <td>blue</td>\n",
       "    </tr>\n",
       "    <tr>\n",
       "      <th>2</th>\n",
       "      <td>ラーメン二郎松戸</td>\n",
       "      <td>二郎系ラーメン夕方は結構並びます。頼み方が独特なので調べてから行きましょう</td>\n",
       "      <td>35.786187</td>\n",
       "      <td>139.901777</td>\n",
       "      <td>green</td>\n",
       "    </tr>\n",
       "    <tr>\n",
       "      <th>3</th>\n",
       "      <td>雷　本店</td>\n",
       "      <td>松戸6号沿いにあり駐車場もあります。二郎家ですが綺麗で行きやすいラーメン屋です</td>\n",
       "      <td>35.801901</td>\n",
       "      <td>139.913633</td>\n",
       "      <td>yellow</td>\n",
       "    </tr>\n",
       "    <tr>\n",
       "      <th>4</th>\n",
       "      <td>王道家　柏</td>\n",
       "      <td>柏の6号沿いにある家系のラーメン屋です。駐車場もあり美味しいですが混んでいる時間が多いです。</td>\n",
       "      <td>35.863024</td>\n",
       "      <td>139.967465</td>\n",
       "      <td>orange</td>\n",
       "    </tr>\n",
       "    <tr>\n",
       "      <th>5</th>\n",
       "      <td>勝浦タンタン麺　江ざわ</td>\n",
       "      <td>勝浦にあり釣りの時によく行きます。早めにいって名前を書いておくことでまつ時間が減ります。見た...</td>\n",
       "      <td>35.197411</td>\n",
       "      <td>140.287673</td>\n",
       "      <td>red</td>\n",
       "    </tr>\n",
       "    <tr>\n",
       "      <th>6</th>\n",
       "      <td>梅野家</td>\n",
       "      <td>富津にある竹岡式ラーメンで釣りの時によく行く昔ながらの醤油ラーメンです。具材がなくなると店が...</td>\n",
       "      <td>35.209386</td>\n",
       "      <td>139.846484</td>\n",
       "      <td>light blue</td>\n",
       "    </tr>\n",
       "    <tr>\n",
       "      <th>7</th>\n",
       "      <td>ラーメン　濱野屋</td>\n",
       "      <td>市原にあり家系のラーメン屋です。おいしですが味が濃いめで席数が少ないため回転率が悪いため混ん...</td>\n",
       "      <td>35.517593</td>\n",
       "      <td>140.085181</td>\n",
       "      <td>purple</td>\n",
       "    </tr>\n",
       "    <tr>\n",
       "      <th>8</th>\n",
       "      <td>ラーメン大　我孫子</td>\n",
       "      <td>我孫子にある二郎系ですが少しさっぱりしています。駐車場もあり店員さんが優しいです。</td>\n",
       "      <td>35.866215</td>\n",
       "      <td>140.013217</td>\n",
       "      <td>green</td>\n",
       "    </tr>\n",
       "    <tr>\n",
       "      <th>9</th>\n",
       "      <td>ラーメン　めん吉</td>\n",
       "      <td>南柏にあるラーメン屋で麺を無料で増やせるので嬉しいです。</td>\n",
       "      <td>35.845896</td>\n",
       "      <td>139.958109</td>\n",
       "      <td>blue</td>\n",
       "    </tr>\n",
       "    <tr>\n",
       "      <th>10</th>\n",
       "      <td>ラーメンとんこつ　貴生</td>\n",
       "      <td>松戸にありホルモンラーメンがピリ辛で美味しいです。夜中の２時までやってるのがありがたいです。</td>\n",
       "      <td>35.785414</td>\n",
       "      <td>139.921768</td>\n",
       "      <td>orange</td>\n",
       "    </tr>\n",
       "  </tbody>\n",
       "</table>\n",
       "</div>"
      ],
      "text/plain": [
       "           name                                        description   latitude   \n",
       "0       中華蕎麦とみ田  松戸駅の近くにあり朝早く並ばないと食べれないのと値段が高いです。残すことができないので頼む量に注意  35.782000  \\\n",
       "1           兎に角                 松戸駅近くにあり油そばが美味しいです。いついっても床がぬるぬるです。  35.785910   \n",
       "2      ラーメン二郎松戸              二郎系ラーメン夕方は結構並びます。頼み方が独特なので調べてから行きましょう  35.786187   \n",
       "3          雷　本店            松戸6号沿いにあり駐車場もあります。二郎家ですが綺麗で行きやすいラーメン屋です  35.801901   \n",
       "4         王道家　柏     柏の6号沿いにある家系のラーメン屋です。駐車場もあり美味しいですが混んでいる時間が多いです。  35.863024   \n",
       "5   勝浦タンタン麺　江ざわ  勝浦にあり釣りの時によく行きます。早めにいって名前を書いておくことでまつ時間が減ります。見た...  35.197411   \n",
       "6           梅野家  富津にある竹岡式ラーメンで釣りの時によく行く昔ながらの醤油ラーメンです。具材がなくなると店が...  35.209386   \n",
       "7      ラーメン　濱野屋  市原にあり家系のラーメン屋です。おいしですが味が濃いめで席数が少ないため回転率が悪いため混ん...  35.517593   \n",
       "8     ラーメン大　我孫子          我孫子にある二郎系ですが少しさっぱりしています。駐車場もあり店員さんが優しいです。  35.866215   \n",
       "9      ラーメン　めん吉                       南柏にあるラーメン屋で麺を無料で増やせるので嬉しいです。  35.845896   \n",
       "10  ラーメンとんこつ　貴生     松戸にありホルモンラーメンがピリ辛で美味しいです。夜中の２時までやってるのがありがたいです。  35.785414   \n",
       "\n",
       "     longitude       color  \n",
       "0   139.900927        pink  \n",
       "1   139.901777        blue  \n",
       "2   139.901777       green  \n",
       "3   139.913633      yellow  \n",
       "4   139.967465      orange  \n",
       "5   140.287673         red  \n",
       "6   139.846484  light blue  \n",
       "7   140.085181      purple  \n",
       "8   140.013217       green  \n",
       "9   139.958109        blue  \n",
       "10  139.921768      orange  "
      ]
     },
     "execution_count": 54,
     "metadata": {},
     "output_type": "execute_result"
    }
   ],
   "source": [
    "df\n"
   ]
  },
  {
   "cell_type": "code",
   "execution_count": 55,
   "metadata": {},
   "outputs": [
    {
     "data": {
      "text/plain": [
       "(11, 5)"
      ]
     },
     "execution_count": 55,
     "metadata": {},
     "output_type": "execute_result"
    }
   ],
   "source": [
    "# size of the data (rows, columns)\n",
    "df.shape"
   ]
  },
  {
   "cell_type": "code",
   "execution_count": 56,
   "metadata": {},
   "outputs": [
    {
     "data": {
      "text/plain": [
       "['name', 'description', 'latitude', 'longitude', 'color']"
      ]
     },
     "execution_count": 56,
     "metadata": {},
     "output_type": "execute_result"
    }
   ],
   "source": [
    "# list of columns\n",
    "df.columns.to_list()"
   ]
  },
  {
   "cell_type": "code",
   "execution_count": 57,
   "metadata": {},
   "outputs": [
    {
     "data": {
      "text/plain": [
       "0     35.782000\n",
       "1     35.785910\n",
       "2     35.786187\n",
       "3     35.801901\n",
       "4     35.863024\n",
       "5     35.197411\n",
       "6     35.209386\n",
       "7     35.517593\n",
       "8     35.866215\n",
       "9     35.845896\n",
       "10    35.785414\n",
       "Name: latitude, dtype: float64"
      ]
     },
     "execution_count": 57,
     "metadata": {},
     "output_type": "execute_result"
    }
   ],
   "source": [
    "# get values for a single column\n",
    "df['latitude']"
   ]
  },
  {
   "cell_type": "code",
   "execution_count": 58,
   "metadata": {},
   "outputs": [
    {
     "data": {
      "text/plain": [
       "[35.7819996835237,\n",
       " 35.7859100545194,\n",
       " 35.786187441966,\n",
       " 35.8019005651788,\n",
       " 35.8630237156468,\n",
       " 35.1974110149409,\n",
       " 35.209386324977,\n",
       " 35.5175931574141,\n",
       " 35.8662149684262,\n",
       " 35.8458962836244,\n",
       " 35.7854140699733]"
      ]
     },
     "execution_count": 58,
     "metadata": {},
     "output_type": "execute_result"
    }
   ],
   "source": [
    "# put those values in a list\n",
    "df['latitude'].to_list()"
   ]
  },
  {
   "cell_type": "code",
   "execution_count": 62,
   "metadata": {},
   "outputs": [
    {
     "data": {
      "text/html": [
       "<div style=\"width:100%;\"><div style=\"position:relative;width:100%;height:0;padding-bottom:60%;\"><span style=\"color:#565656\">Make this Notebook Trusted to load map: File -> Trust Notebook</span><iframe srcdoc=\"&lt;!DOCTYPE html&gt;\n",
       "&lt;html&gt;\n",
       "&lt;head&gt;\n",
       "    \n",
       "    &lt;meta http-equiv=&quot;content-type&quot; content=&quot;text/html; charset=UTF-8&quot; /&gt;\n",
       "    \n",
       "        &lt;script&gt;\n",
       "            L_NO_TOUCH = false;\n",
       "            L_DISABLE_3D = false;\n",
       "        &lt;/script&gt;\n",
       "    \n",
       "    &lt;style&gt;html, body {width: 100%;height: 100%;margin: 0;padding: 0;}&lt;/style&gt;\n",
       "    &lt;style&gt;#map {position:absolute;top:0;bottom:0;right:0;left:0;}&lt;/style&gt;\n",
       "    &lt;script src=&quot;https://cdn.jsdelivr.net/npm/leaflet@1.9.3/dist/leaflet.js&quot;&gt;&lt;/script&gt;\n",
       "    &lt;script src=&quot;https://code.jquery.com/jquery-1.12.4.min.js&quot;&gt;&lt;/script&gt;\n",
       "    &lt;script src=&quot;https://cdn.jsdelivr.net/npm/bootstrap@5.2.2/dist/js/bootstrap.bundle.min.js&quot;&gt;&lt;/script&gt;\n",
       "    &lt;script src=&quot;https://cdnjs.cloudflare.com/ajax/libs/Leaflet.awesome-markers/2.0.2/leaflet.awesome-markers.js&quot;&gt;&lt;/script&gt;\n",
       "    &lt;link rel=&quot;stylesheet&quot; href=&quot;https://cdn.jsdelivr.net/npm/leaflet@1.9.3/dist/leaflet.css&quot;/&gt;\n",
       "    &lt;link rel=&quot;stylesheet&quot; href=&quot;https://cdn.jsdelivr.net/npm/bootstrap@5.2.2/dist/css/bootstrap.min.css&quot;/&gt;\n",
       "    &lt;link rel=&quot;stylesheet&quot; href=&quot;https://netdna.bootstrapcdn.com/bootstrap/3.0.0/css/bootstrap.min.css&quot;/&gt;\n",
       "    &lt;link rel=&quot;stylesheet&quot; href=&quot;https://cdn.jsdelivr.net/npm/@fortawesome/fontawesome-free@6.2.0/css/all.min.css&quot;/&gt;\n",
       "    &lt;link rel=&quot;stylesheet&quot; href=&quot;https://cdnjs.cloudflare.com/ajax/libs/Leaflet.awesome-markers/2.0.2/leaflet.awesome-markers.css&quot;/&gt;\n",
       "    &lt;link rel=&quot;stylesheet&quot; href=&quot;https://cdn.jsdelivr.net/gh/python-visualization/folium/folium/templates/leaflet.awesome.rotate.min.css&quot;/&gt;\n",
       "    \n",
       "            &lt;meta name=&quot;viewport&quot; content=&quot;width=device-width,\n",
       "                initial-scale=1.0, maximum-scale=1.0, user-scalable=no&quot; /&gt;\n",
       "            &lt;style&gt;\n",
       "                #map_3fc6b7d9464d1fbb6404f0c88ee7c7f0 {\n",
       "                    position: relative;\n",
       "                    width: 100.0%;\n",
       "                    height: 100.0%;\n",
       "                    left: 0.0%;\n",
       "                    top: 0.0%;\n",
       "                }\n",
       "                .leaflet-container { font-size: 1rem; }\n",
       "            &lt;/style&gt;\n",
       "        \n",
       "&lt;/head&gt;\n",
       "&lt;body&gt;\n",
       "    \n",
       "    \n",
       "            &lt;div class=&quot;folium-map&quot; id=&quot;map_3fc6b7d9464d1fbb6404f0c88ee7c7f0&quot; &gt;&lt;/div&gt;\n",
       "        \n",
       "&lt;/body&gt;\n",
       "&lt;script&gt;\n",
       "    \n",
       "    \n",
       "            var map_3fc6b7d9464d1fbb6404f0c88ee7c7f0 = L.map(\n",
       "                &quot;map_3fc6b7d9464d1fbb6404f0c88ee7c7f0&quot;,\n",
       "                {\n",
       "                    center: [35.833, 139.955],\n",
       "                    crs: L.CRS.EPSG3857,\n",
       "                    zoom: 17,\n",
       "                    zoomControl: true,\n",
       "                    preferCanvas: false,\n",
       "                }\n",
       "            );\n",
       "\n",
       "            \n",
       "\n",
       "        \n",
       "    \n",
       "            var tile_layer_aa7f4f44cb81ab0a484d72a7ebc4be3d = L.tileLayer(\n",
       "                &quot;https://{s}.tile.openstreetmap.org/{z}/{x}/{y}.png&quot;,\n",
       "                {&quot;attribution&quot;: &quot;Data by \\u0026copy; \\u003ca target=\\&quot;_blank\\&quot; href=\\&quot;http://openstreetmap.org\\&quot;\\u003eOpenStreetMap\\u003c/a\\u003e, under \\u003ca target=\\&quot;_blank\\&quot; href=\\&quot;http://www.openstreetmap.org/copyright\\&quot;\\u003eODbL\\u003c/a\\u003e.&quot;, &quot;detectRetina&quot;: false, &quot;maxNativeZoom&quot;: 18, &quot;maxZoom&quot;: 18, &quot;minZoom&quot;: 0, &quot;noWrap&quot;: false, &quot;opacity&quot;: 1, &quot;subdomains&quot;: &quot;abc&quot;, &quot;tms&quot;: false}\n",
       "            ).addTo(map_3fc6b7d9464d1fbb6404f0c88ee7c7f0);\n",
       "        \n",
       "&lt;/script&gt;\n",
       "&lt;/html&gt;\" style=\"position:absolute;width:100%;height:100%;left:0;top:0;border:none !important;\" allowfullscreen webkitallowfullscreen mozallowfullscreen></iframe></div></div>"
      ],
      "text/plain": [
       "<folium.folium.Map at 0x13058bb50>"
      ]
     },
     "execution_count": 62,
     "metadata": {},
     "output_type": "execute_result"
    }
   ],
   "source": [
    "# import folium\n",
    "import folium\n",
    "# add basemaps\n",
    "reitaku=[35.8330, 139.9550]\n",
    "tomita=[35.7819996835237, 139.900927457149]\n",
    "tonikaku=[35.7859100545194, 139.901776802955]\n",
    "zirou=[35.7861874419660, 139.901776802955]\n",
    "kaminari=[35.8019005651788, 139.913633430935]\n",
    "oudouya=[35.8630237156468, 139.967465270743]\n",
    "ezawa=[35.1974110149409, 140.287673267344]\n",
    "umenoya=[35.2093863249770, 139.846484140361]\n",
    "hamanoya=[35.5175931574141, 140.085180896195]\n",
    "ramendai=[35.8662149684262, 140.013217253884]\n",
    "mennkiti=[35.8458962836244, 139.958109097880]\n",
    "takao=[35.7854140699733, 139.921768233063]\n",
    "\n",
    "# add a marker\n",
    "folium.Marker(tomita,popup=\"中華そばとみ田\",tooltip=\"松戸駅の近くにあり朝早く並ばないと食べれないのと値段が高いです。残すことができないので頼む量に注意\").add_to(m)\n",
    "\n",
    "# make the map\n",
    "m = folium.Map(location=reitaku, zoom_start=17)\n",
    "\n",
    "m\n",
    "\n",
    "\n",
    "\n",
    "\n"
   ]
  },
  {
   "cell_type": "code",
   "execution_count": null,
   "metadata": {},
   "outputs": [],
   "source": []
  }
 ],
 "metadata": {
  "kernelspec": {
   "display_name": "gis",
   "language": "python",
   "name": "python3"
  },
  "language_info": {
   "codemirror_mode": {
    "name": "ipython",
    "version": 3
   },
   "file_extension": ".py",
   "mimetype": "text/x-python",
   "name": "python",
   "nbconvert_exporter": "python",
   "pygments_lexer": "ipython3",
   "version": "3.11.3"
  },
  "orig_nbformat": 4
 },
 "nbformat": 4,
 "nbformat_minor": 2
}
